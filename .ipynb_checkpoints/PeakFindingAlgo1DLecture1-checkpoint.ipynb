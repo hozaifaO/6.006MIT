{
 "cells": [
  {
   "cell_type": "code",
   "execution_count": 73,
   "metadata": {},
   "outputs": [
    {
     "name": "stdout",
     "output_type": "stream",
     "text": [
      "[2, 4, 5, 6, 7, 9, 11, 12, 13, 15, 16, 21]\n"
     ]
    }
   ],
   "source": [
    "A = [2,13,15,4,5,6,7,12,9,16,11,21]\n",
    "print(A)"
   ]
  },
  {
   "cell_type": "code",
   "execution_count": 74,
   "metadata": {
    "scrolled": false
   },
   "outputs": [
    {
     "name": "stdout",
     "output_type": "stream",
     "text": [
      "21\n"
     ]
    }
   ],
   "source": [
    "def peakfinder(arr):\n",
    "    \n",
    "    if len(arr) == 0:\n",
    "        return None\n",
    "\n",
    "    if len(arr) == 1: \n",
    "        return arr\n",
    "    \n",
    "    if len(arr) == 2:\n",
    "        new_array = []\n",
    "        if(arr[0] < arr[1]):\n",
    "            new_array.append(arr[1])\n",
    "        else:\n",
    "            new_array.append(arr[0])\n",
    "        return new_array\n",
    "    mid = int(len(arr) / 2)\n",
    "    left  = int(mid - 1)\n",
    "    right = int(mid + 1)\n",
    "\n",
    "    if arr[left] <= arr[mid] >= arr[right]:\n",
    "        return arr[mid] \n",
    "\n",
    "    if arr[mid] < arr[left]: \n",
    "        return peakfinder(arr[:mid])\n",
    "\n",
    "    if arr[mid] < arr[right]: \n",
    "        return peakfinder(arr[mid+1:])\n",
    "    \n",
    "peak = peakfinder(A)[0]\n",
    "print(peak)"
   ]
  },
  {
   "cell_type": "code",
   "execution_count": null,
   "metadata": {},
   "outputs": [],
   "source": []
  }
 ],
 "metadata": {
  "kernelspec": {
   "display_name": "Python 3",
   "language": "python",
   "name": "python3"
  },
  "language_info": {
   "codemirror_mode": {
    "name": "ipython",
    "version": 3
   },
   "file_extension": ".py",
   "mimetype": "text/x-python",
   "name": "python",
   "nbconvert_exporter": "python",
   "pygments_lexer": "ipython3",
   "version": "3.7.4"
  }
 },
 "nbformat": 4,
 "nbformat_minor": 2
}
