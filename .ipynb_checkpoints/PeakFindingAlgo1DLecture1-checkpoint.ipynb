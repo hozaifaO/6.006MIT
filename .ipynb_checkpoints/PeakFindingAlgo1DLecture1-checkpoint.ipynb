{
 "cells": [
  {
   "cell_type": "code",
   "execution_count": 8,
   "metadata": {},
   "outputs": [],
   "source": [
    "x = [2,4,8,6,7,3]"
   ]
  },
  {
   "cell_type": "code",
   "execution_count": 10,
   "metadata": {},
   "outputs": [
    {
     "name": "stdout",
     "output_type": "stream",
     "text": [
      "Search Only right\n"
     ]
    }
   ],
   "source": [
    "if(x[int(len(x)/2)] < x[(int(len(x)/2)-1)]):\n",
    "    print(\"Search Only Left\")\n",
    "elif (x[int(len(x)/2)] < x[int((len(x)/2)+1)]):\n",
    "    print(\"Search Only right\")\n",
    "else:\n",
    "    print(\"N/2 is peak\")"
   ]
  },
  {
   "cell_type": "code",
   "execution_count": null,
   "metadata": {},
   "outputs": [],
   "source": []
  }
 ],
 "metadata": {
  "kernelspec": {
   "display_name": "Python 3",
   "language": "python",
   "name": "python3"
  },
  "language_info": {
   "codemirror_mode": {
    "name": "ipython",
    "version": 3
   },
   "file_extension": ".py",
   "mimetype": "text/x-python",
   "name": "python",
   "nbconvert_exporter": "python",
   "pygments_lexer": "ipython3",
   "version": "3.7.4"
  }
 },
 "nbformat": 4,
 "nbformat_minor": 2
}
